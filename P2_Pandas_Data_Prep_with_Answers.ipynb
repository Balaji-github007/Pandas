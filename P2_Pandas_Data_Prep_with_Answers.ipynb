{
  "nbformat": 4,
  "nbformat_minor": 0,
  "metadata": {
    "colab": {
      "name": "P2 Pandas Data Prep with Answers.ipynb",
      "provenance": [],
      "private_outputs": true
    },
    "kernelspec": {
      "name": "python3",
      "display_name": "Python 3"
    }
  },
  "cells": [
    {
      "cell_type": "code",
      "metadata": {
        "id": "Qs2UQdd_WImd"
      },
      "source": [
        "# Clone the entire repo.\n",
        "!git clone -l -s https://github.com/Balaji-github007/Intro-to-Pandas.git cloned-repo\n",
        "%cd cloned-repo\n",
        "!ls"
      ],
      "execution_count": null,
      "outputs": []
    },
    {
      "cell_type": "markdown",
      "metadata": {
        "id": "7ODK5MbksU4c"
      },
      "source": [
        "# **Practice Preparing Data for a Machiine Learning Model**"
      ]
    },
    {
      "cell_type": "markdown",
      "metadata": {
        "id": "K1Xs-hgfTXfo"
      },
      "source": [
        "**Import the Pandas library**\n"
      ]
    },
    {
      "cell_type": "code",
      "metadata": {
        "id": "ayZDRm3GYkhB"
      },
      "source": [],
      "execution_count": null,
      "outputs": []
    },
    {
      "cell_type": "code",
      "metadata": {
        "id": "wJDAILYclOuI",
        "cellView": "form"
      },
      "source": [
        "#@title\n",
        "import pandas as pd\n",
        "import numpy as np"
      ],
      "execution_count": null,
      "outputs": []
    },
    {
      "cell_type": "markdown",
      "metadata": {
        "id": "JHPsazp2Ta2a"
      },
      "source": [
        "**Create a training set with the train.csv file**<br>\n",
        "**Create a test set with the test.csv file**"
      ]
    },
    {
      "cell_type": "code",
      "metadata": {
        "id": "5n7NOrHylPwc"
      },
      "source": [],
      "execution_count": null,
      "outputs": []
    },
    {
      "cell_type": "code",
      "metadata": {
        "id": "VtwheTMNYro5",
        "cellView": "form"
      },
      "source": [
        "#@title\n",
        "#load the data\n",
        "train  = pd.read_csv(\"train.csv\")\n",
        "test = pd.read_csv(\"test.csv\")"
      ],
      "execution_count": null,
      "outputs": []
    },
    {
      "cell_type": "markdown",
      "metadata": {
        "id": "M-J6w2EOUNsX"
      },
      "source": [
        "**Check the datasets**. <br>\n",
        "How many columns are in the dataset?"
      ]
    },
    {
      "cell_type": "code",
      "metadata": {
        "id": "rpyE8V8aYyWB"
      },
      "source": [],
      "execution_count": null,
      "outputs": []
    },
    {
      "cell_type": "code",
      "metadata": {
        "id": "gt5U9TVSla0G",
        "cellView": "form"
      },
      "source": [
        "#@title\n",
        "#check data set\n",
        "train.info()"
      ],
      "execution_count": null,
      "outputs": []
    },
    {
      "cell_type": "markdown",
      "metadata": {
        "id": "y253VZRWUwMn"
      },
      "source": [
        "**Look at the shape of both the test and training sets**"
      ]
    },
    {
      "cell_type": "code",
      "metadata": {
        "id": "_vBJ_sONldU1"
      },
      "source": [],
      "execution_count": null,
      "outputs": []
    },
    {
      "cell_type": "code",
      "metadata": {
        "id": "YpFA0ezMY2IS",
        "cellView": "form"
      },
      "source": [
        "#@title\n",
        "print (\"The train data has\",train.shape)\n",
        "print (\"The test data has\",test.shape)\n",
        "('The train data has', (32561, 15))\n",
        "('The test data has', (16281, 15))\n",
        "\n",
        "\n",
        "#Look at the training set first lines\n",
        "train.head()"
      ],
      "execution_count": null,
      "outputs": []
    },
    {
      "cell_type": "markdown",
      "metadata": {
        "id": "eGhhhAUrVAmA"
      },
      "source": [
        "**Check for missing values in both sets**"
      ]
    },
    {
      "cell_type": "code",
      "metadata": {
        "id": "8pST-zQZlnr4"
      },
      "source": [],
      "execution_count": null,
      "outputs": []
    },
    {
      "cell_type": "code",
      "metadata": {
        "id": "EU47eDnHY8su",
        "cellView": "form"
      },
      "source": [
        "#@title\n",
        "nans = train.shape[0] - train.dropna().shape[0]\n",
        "print (\"%d rows have missing values in the train data\" %nans)\n",
        "\n",
        "nand = test.shape[0] - test.dropna().shape[0]\n",
        "print (\"%d rows have missing values in the test data\" %nand)"
      ],
      "execution_count": null,
      "outputs": []
    },
    {
      "cell_type": "markdown",
      "metadata": {
        "id": "JbwHg3TzVPqz"
      },
      "source": [
        "**How many values are missing for each feature (column)?**"
      ]
    },
    {
      "cell_type": "code",
      "metadata": {
        "id": "FP3O6izylo29"
      },
      "source": [],
      "execution_count": null,
      "outputs": []
    },
    {
      "cell_type": "code",
      "metadata": {
        "id": "h5NogoXVZA2H",
        "cellView": "form"
      },
      "source": [
        "#@title\n",
        "#only 3 columns have missing values\n",
        "train.isnull().sum()"
      ],
      "execution_count": null,
      "outputs": []
    },
    {
      "cell_type": "markdown",
      "metadata": {
        "id": "T3gAbr1iVtKT"
      },
      "source": [
        "**How many unique values are in each feature? **"
      ]
    },
    {
      "cell_type": "code",
      "metadata": {
        "id": "NJTxeMj7lxo1"
      },
      "source": [],
      "execution_count": null,
      "outputs": []
    },
    {
      "cell_type": "code",
      "metadata": {
        "id": "8WhfLXXqZG96",
        "cellView": "form"
      },
      "source": [
        "#@title\n",
        "cat = train.select_dtypes(include=['O'])\n",
        "cat.apply(pd.Series.nunique)"
      ],
      "execution_count": null,
      "outputs": []
    },
    {
      "cell_type": "markdown",
      "metadata": {
        "id": "Xoru8Is4l2ad"
      },
      "source": [
        "**Fill in the missing values: **\n",
        "<br>\n",
        "workclass: fill missing values with Private<br>\n",
        "occupation: fill missing values with Prof-specialty<br>\n",
        "native country: fill missing values with United-States<br>\n"
      ]
    },
    {
      "cell_type": "code",
      "metadata": {
        "id": "QMD1mFyvZMDC"
      },
      "source": [],
      "execution_count": null,
      "outputs": []
    },
    {
      "cell_type": "code",
      "metadata": {
        "id": "joLNbHLiZMQ4",
        "cellView": "form"
      },
      "source": [
        "#@title\n",
        "#Education\n",
        "train.workclass.value_counts(sort=True)\n",
        "train.workclass.fillna('Private',inplace=True)\n",
        "\n",
        "#Occupation\n",
        "train.occupation.value_counts(sort=True)\n",
        "train.occupation.fillna('Prof-specialty',inplace=True)\n",
        "\n",
        "#Native Country\n",
        "train['native.country'].value_counts(sort=True)\n",
        "train['native.country'].fillna('United-States',inplace=True)"
      ],
      "execution_count": null,
      "outputs": []
    },
    {
      "cell_type": "markdown",
      "metadata": {
        "id": "RsD2yWv4mgoF"
      },
      "source": [
        "**Check again that all missing values have been filled in**"
      ]
    },
    {
      "cell_type": "code",
      "metadata": {
        "id": "Uf4JIeTRZRDf"
      },
      "source": [],
      "execution_count": null,
      "outputs": []
    },
    {
      "cell_type": "code",
      "metadata": {
        "id": "Gt-gpYgCZRLV",
        "cellView": "form"
      },
      "source": [
        "#@title\n",
        "train.isnull().sum()"
      ],
      "execution_count": null,
      "outputs": []
    },
    {
      "cell_type": "markdown",
      "metadata": {
        "id": "dqFlh3zYpteN"
      },
      "source": [
        "**Are the training and test sets have similar distributions? **"
      ]
    },
    {
      "cell_type": "code",
      "metadata": {
        "id": "Z-6Gf-plZT9x"
      },
      "source": [],
      "execution_count": null,
      "outputs": []
    },
    {
      "cell_type": "code",
      "metadata": {
        "id": "EXr8VIZ6pmrP",
        "cellView": "form"
      },
      "source": [
        "#@title\n",
        "test_stats = test.describe()\n",
        "test_stats = test_stats.transpose()\n",
        "test_stats"
      ],
      "execution_count": null,
      "outputs": []
    },
    {
      "cell_type": "markdown",
      "metadata": {
        "id": "1MoYxalxp_lZ"
      },
      "source": [
        "**Do you have a balanced dataset?**"
      ]
    },
    {
      "cell_type": "code",
      "metadata": {
        "id": "jjZbgA7VZayN"
      },
      "source": [],
      "execution_count": null,
      "outputs": []
    },
    {
      "cell_type": "code",
      "metadata": {
        "id": "1dkqTm7cZbIz",
        "cellView": "form"
      },
      "source": [
        "#@title\n",
        "#check proportion of target variable\n",
        "train.target.value_counts()/train.shape[0]"
      ],
      "execution_count": null,
      "outputs": []
    },
    {
      "cell_type": "markdown",
      "metadata": {
        "id": "KwKBT4qLrpVl"
      },
      "source": [
        "Try the Crosstab function in Pandas. <br>\n",
        "Google Pandas Crosstab to learn more about it."
      ]
    },
    {
      "cell_type": "code",
      "metadata": {
        "id": "kqDwmaPQHOJ9"
      },
      "source": [
        "pd.crosstab(train.education, train.target,margins=True)/train.shape[0]"
      ],
      "execution_count": null,
      "outputs": []
    }
  ]
}
