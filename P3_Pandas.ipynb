{
  "nbformat": 4,
  "nbformat_minor": 0,
  "metadata": {
    "colab": {
      "name": "P3 Pandas.ipynb",
      "provenance": [],
      "private_outputs": true
    },
    "kernelspec": {
      "name": "python3",
      "display_name": "Python 3"
    }
  },
  "cells": [
    {
      "cell_type": "code",
      "metadata": {
        "id": "XsjUJ-sYbf1n"
      },
      "source": [
        "# Clone the entire repo.\n",
        "!git clone -l -s https://github.com/Balaji-github007/Intro-to-Pandas.git cloned-repo\n",
        "%cd cloned-repo\n",
        "!ls"
      ],
      "execution_count": null,
      "outputs": []
    },
    {
      "cell_type": "markdown",
      "metadata": {
        "id": "FZnNegNyaZso"
      },
      "source": [
        "Looking at the Titanic dataset."
      ]
    },
    {
      "cell_type": "code",
      "metadata": {
        "id": "6Rdm46giadzt"
      },
      "source": [
        "#Load the Pandas library\n"
      ],
      "execution_count": null,
      "outputs": []
    },
    {
      "cell_type": "code",
      "metadata": {
        "id": "6xE-5IH7aYvz"
      },
      "source": [
        "# Load the train and test datasets to create two DataFrames\n",
        "train = pd.read_csv(\"trainTitanic.csv\")\n",
        "\n",
        "test = pd.read_csv(\"testTitanic.csv\")\n"
      ],
      "execution_count": null,
      "outputs": []
    },
    {
      "cell_type": "markdown",
      "metadata": {
        "id": "xr0-06Paa40a"
      },
      "source": [
        "Look at the test and training sets using head, tail, and/or describe"
      ]
    },
    {
      "cell_type": "code",
      "metadata": {
        "id": "ICCSKTuma49A"
      },
      "source": [],
      "execution_count": null,
      "outputs": []
    },
    {
      "cell_type": "code",
      "metadata": {
        "id": "UaQ9J371bE3r"
      },
      "source": [],
      "execution_count": null,
      "outputs": []
    },
    {
      "cell_type": "markdown",
      "metadata": {
        "id": "Mg3zzWmYVxko"
      },
      "source": [
        "What is the shape of the training and test sets?"
      ]
    },
    {
      "cell_type": "code",
      "metadata": {
        "id": "RlyYb2jNbPQa"
      },
      "source": [],
      "execution_count": null,
      "outputs": []
    },
    {
      "cell_type": "markdown",
      "metadata": {
        "id": "YlGXcUiLXT6r"
      },
      "source": [
        "How many people survived?"
      ]
    },
    {
      "cell_type": "code",
      "metadata": {
        "id": "NzQzWcFmbje-"
      },
      "source": [],
      "execution_count": null,
      "outputs": []
    },
    {
      "cell_type": "markdown",
      "metadata": {
        "id": "lj_ygfH8XW0P"
      },
      "source": [
        "What is the percentage of people that survived?"
      ]
    },
    {
      "cell_type": "code",
      "metadata": {
        "id": "OTjuBy0LXDzw"
      },
      "source": [],
      "execution_count": null,
      "outputs": []
    },
    {
      "cell_type": "markdown",
      "metadata": {
        "id": "gerS58ltXP5t"
      },
      "source": [
        "How many males and females survived?"
      ]
    },
    {
      "cell_type": "code",
      "metadata": {
        "id": "RNN7GRtpb6jP"
      },
      "source": [],
      "execution_count": null,
      "outputs": []
    },
    {
      "cell_type": "markdown",
      "metadata": {
        "id": "WePfuJP-YJA2"
      },
      "source": [
        "What is the range of the fares?"
      ]
    },
    {
      "cell_type": "code",
      "metadata": {
        "id": "vaGIz3KzYJO9"
      },
      "source": [],
      "execution_count": null,
      "outputs": []
    },
    {
      "cell_type": "markdown",
      "metadata": {
        "id": "2S3yRlgwKKA5"
      },
      "source": [
        "How many people under the age of 16 surivived?"
      ]
    },
    {
      "cell_type": "code",
      "metadata": {
        "id": "ac75HyHmYWOs"
      },
      "source": [],
      "execution_count": null,
      "outputs": []
    },
    {
      "cell_type": "markdown",
      "metadata": {
        "id": "pjYJeEcPKPBU"
      },
      "source": [
        "How many unique values are there in the training set?"
      ]
    },
    {
      "cell_type": "code",
      "metadata": {
        "id": "TTL7Z4xcaS3-"
      },
      "source": [],
      "execution_count": null,
      "outputs": []
    },
    {
      "cell_type": "markdown",
      "metadata": {
        "id": "TM10FnvlKWQ8"
      },
      "source": [
        "How many different embark locations?"
      ]
    },
    {
      "cell_type": "code",
      "metadata": {
        "id": "t8GEW-m6dVD0"
      },
      "source": [],
      "execution_count": null,
      "outputs": []
    },
    {
      "cell_type": "markdown",
      "metadata": {
        "id": "DnfEMR8Lgdne"
      },
      "source": [
        "List the cabins in ascending order, list NaN values last."
      ]
    },
    {
      "cell_type": "code",
      "metadata": {
        "id": "QP41VJrigdy-"
      },
      "source": [],
      "execution_count": null,
      "outputs": []
    },
    {
      "cell_type": "markdown",
      "metadata": {
        "id": "E9cJ-yWjg_BO"
      },
      "source": [
        "**Creating a Mask**<br>\n",
        "Filtering 2 or more conditions<br>\n",
        "Using the and logic function"
      ]
    },
    {
      "cell_type": "code",
      "metadata": {
        "id": "oHSQQvu2hFkA"
      },
      "source": [
        "#Women who paid less than 50 dollars fare\n",
        "train_fare_mask = train[\"Fare\"] < 50\n",
        "train_sex_mask = train[\"Sex\"] == \"female\"\n",
        "train[train_fare_mask & train_sex_mask]"
      ],
      "execution_count": null,
      "outputs": []
    },
    {
      "cell_type": "markdown",
      "metadata": {
        "id": "lf4XkG6xhoGO"
      },
      "source": [
        "Filtering with the OR logic function"
      ]
    },
    {
      "cell_type": "code",
      "metadata": {
        "id": "n_TlC0CRhoQq"
      },
      "source": [
        "#Passengers who paid more than $500 fare or are over 70 years old\n",
        "train_fare_mask2 = train[\"Fare\"] > 500\n",
        "train_age_mask = train[\"Age\"] > 70\n",
        "train[train_fare_mask2 | train_age_mask]"
      ],
      "execution_count": null,
      "outputs": []
    },
    {
      "cell_type": "markdown",
      "metadata": {
        "id": "B9ZUgjd6iR7t"
      },
      "source": [
        "**Finding the Null values**"
      ]
    },
    {
      "cell_type": "code",
      "metadata": {
        "id": "sgA0wGfmiSGU"
      },
      "source": [],
      "execution_count": null,
      "outputs": []
    },
    {
      "cell_type": "markdown",
      "metadata": {
        "id": "da7cBu80KwoN"
      },
      "source": [
        "What is the sum of all the missing data?"
      ]
    },
    {
      "cell_type": "code",
      "metadata": {
        "id": "8L5A3SZ5ijuj"
      },
      "source": [],
      "execution_count": null,
      "outputs": []
    },
    {
      "cell_type": "markdown",
      "metadata": {
        "id": "yq5B0clMi03v"
      },
      "source": [
        "**Drop columns**<br>\n",
        "If a column has a lot of missing data, it might be best to drop it."
      ]
    },
    {
      "cell_type": "code",
      "metadata": {
        "id": "6b9uZt_QivsH"
      },
      "source": [
        "train.drop(labels = [\"Cabin\"], axis=1).head()"
      ],
      "execution_count": null,
      "outputs": []
    },
    {
      "cell_type": "markdown",
      "metadata": {
        "id": "6N6B7hOzjI7k"
      },
      "source": [
        "**Drop columns**<br>\n",
        "More than one column can be dropped at a time"
      ]
    },
    {
      "cell_type": "code",
      "metadata": {
        "id": "T_yoBnM1jGbN"
      },
      "source": [
        "train.drop(labels = [\"Cabin\", \"Name\"], axis=1).head()"
      ],
      "execution_count": null,
      "outputs": []
    },
    {
      "cell_type": "markdown",
      "metadata": {
        "id": "v7vwMUVrjcB2"
      },
      "source": [
        "**Fill missing data**"
      ]
    },
    {
      "cell_type": "code",
      "metadata": {
        "id": "JRq4uRzAjcNE"
      },
      "source": [
        "train[\"columnname\"].fillna(0, inplace = True) #with inplace argument, we don't have to write it as\n",
        "train[\"columnname\"] = train[\"columnname\"].fillna(0, inplace = True)"
      ],
      "execution_count": null,
      "outputs": []
    },
    {
      "cell_type": "code",
      "metadata": {
        "id": "K1ukre61kJ8x"
      },
      "source": [
        "train[\"Age\"].fillna(\"Unknown\", inplace = True)\n",
        "train\n",
        "\n",
        "train['Age'] = train['Age'].fillna((train['Age'].median()))"
      ],
      "execution_count": null,
      "outputs": []
    }
  ]
}
